{
 "cells": [
  {
   "cell_type": "code",
   "execution_count": 1,
   "id": "1eaccbf5",
   "metadata": {},
   "outputs": [],
   "source": [
    "#imports\n",
    "import numpy as np\n",
    "import pandas as pd\n",
    "import matplotlib.pyplot as plt\n",
    "\n",
    "%matplotlib inline\n",
    "\n",
    "#Standardization\n",
    "from sklearn import preprocessing\n",
    "\n",
    "#Dividing train and test\n",
    "from sklearn.model_selection import train_test_split\n",
    "\n",
    "#Checking R2 Score and Mean Squared Error\n",
    "from sklearn.metrics import r2_score, mean_squared_error\n",
    "\n",
    "#Gets Ordinary Least Squares Results\n",
    "from sklearn.linear_model import LinearRegression"
   ]
  },
  {
   "cell_type": "code",
   "execution_count": 2,
   "id": "501c979a",
   "metadata": {},
   "outputs": [
    {
     "name": "stdout",
     "output_type": "stream",
     "text": [
      "Size of data: (200, 4)\n"
     ]
    },
    {
     "data": {
      "text/plain": [
       "TV           float64\n",
       "Radio        float64\n",
       "Newspaper    float64\n",
       "Sales        float64\n",
       "dtype: object"
      ]
     },
     "execution_count": 2,
     "metadata": {},
     "output_type": "execute_result"
    }
   ],
   "source": [
    "#Load data\n",
    "df = pd.read_csv(\"Advertising.csv\", index_col = 0)\n",
    "\n",
    "#prints and displays\n",
    "print(\"Size of data:\", df.shape)\n",
    "df.head()\n",
    "\n",
    "df.describe()\n",
    "\n",
    "df.dtypes"
   ]
  },
  {
   "cell_type": "code",
   "execution_count": 3,
   "id": "490be39a",
   "metadata": {},
   "outputs": [
    {
     "data": {
      "text/html": [
       "<div>\n",
       "<style scoped>\n",
       "    .dataframe tbody tr th:only-of-type {\n",
       "        vertical-align: middle;\n",
       "    }\n",
       "\n",
       "    .dataframe tbody tr th {\n",
       "        vertical-align: top;\n",
       "    }\n",
       "\n",
       "    .dataframe thead th {\n",
       "        text-align: right;\n",
       "    }\n",
       "</style>\n",
       "<table border=\"1\" class=\"dataframe\">\n",
       "  <thead>\n",
       "    <tr style=\"text-align: right;\">\n",
       "      <th></th>\n",
       "      <th>TV</th>\n",
       "      <th>Radio</th>\n",
       "      <th>Newspaper</th>\n",
       "      <th>Sales</th>\n",
       "    </tr>\n",
       "  </thead>\n",
       "  <tbody>\n",
       "    <tr>\n",
       "      <th>1</th>\n",
       "      <td>0.967425</td>\n",
       "      <td>0.979066</td>\n",
       "      <td>1.774493</td>\n",
       "      <td>1.548168</td>\n",
       "    </tr>\n",
       "    <tr>\n",
       "      <th>2</th>\n",
       "      <td>-1.194379</td>\n",
       "      <td>1.080097</td>\n",
       "      <td>0.667903</td>\n",
       "      <td>-0.694304</td>\n",
       "    </tr>\n",
       "    <tr>\n",
       "      <th>3</th>\n",
       "      <td>-1.512360</td>\n",
       "      <td>1.524637</td>\n",
       "      <td>1.779084</td>\n",
       "      <td>-0.905135</td>\n",
       "    </tr>\n",
       "    <tr>\n",
       "      <th>4</th>\n",
       "      <td>0.051919</td>\n",
       "      <td>1.214806</td>\n",
       "      <td>1.283185</td>\n",
       "      <td>0.858177</td>\n",
       "    </tr>\n",
       "    <tr>\n",
       "      <th>5</th>\n",
       "      <td>0.393196</td>\n",
       "      <td>-0.839507</td>\n",
       "      <td>1.278593</td>\n",
       "      <td>-0.215143</td>\n",
       "    </tr>\n",
       "    <tr>\n",
       "      <th>...</th>\n",
       "      <td>...</td>\n",
       "      <td>...</td>\n",
       "      <td>...</td>\n",
       "      <td>...</td>\n",
       "    </tr>\n",
       "    <tr>\n",
       "      <th>196</th>\n",
       "      <td>-1.267759</td>\n",
       "      <td>-1.317724</td>\n",
       "      <td>-0.769287</td>\n",
       "      <td>-1.230964</td>\n",
       "    </tr>\n",
       "    <tr>\n",
       "      <th>197</th>\n",
       "      <td>-0.615491</td>\n",
       "      <td>-1.236899</td>\n",
       "      <td>-1.031011</td>\n",
       "      <td>-0.828469</td>\n",
       "    </tr>\n",
       "    <tr>\n",
       "      <th>198</th>\n",
       "      <td>0.348934</td>\n",
       "      <td>-0.940539</td>\n",
       "      <td>-1.109069</td>\n",
       "      <td>-0.234310</td>\n",
       "    </tr>\n",
       "    <tr>\n",
       "      <th>199</th>\n",
       "      <td>1.590574</td>\n",
       "      <td>1.261955</td>\n",
       "      <td>1.636743</td>\n",
       "      <td>2.199827</td>\n",
       "    </tr>\n",
       "    <tr>\n",
       "      <th>200</th>\n",
       "      <td>0.990720</td>\n",
       "      <td>-0.987687</td>\n",
       "      <td>-1.003461</td>\n",
       "      <td>-0.119311</td>\n",
       "    </tr>\n",
       "  </tbody>\n",
       "</table>\n",
       "<p>200 rows × 4 columns</p>\n",
       "</div>"
      ],
      "text/plain": [
       "           TV     Radio  Newspaper     Sales\n",
       "1    0.967425  0.979066   1.774493  1.548168\n",
       "2   -1.194379  1.080097   0.667903 -0.694304\n",
       "3   -1.512360  1.524637   1.779084 -0.905135\n",
       "4    0.051919  1.214806   1.283185  0.858177\n",
       "5    0.393196 -0.839507   1.278593 -0.215143\n",
       "..        ...       ...        ...       ...\n",
       "196 -1.267759 -1.317724  -0.769287 -1.230964\n",
       "197 -0.615491 -1.236899  -1.031011 -0.828469\n",
       "198  0.348934 -0.940539  -1.109069 -0.234310\n",
       "199  1.590574  1.261955   1.636743  2.199827\n",
       "200  0.990720 -0.987687  -1.003461 -0.119311\n",
       "\n",
       "[200 rows x 4 columns]"
      ]
     },
     "execution_count": 3,
     "metadata": {},
     "output_type": "execute_result"
    }
   ],
   "source": [
    "df_temp = df.copy()\n",
    "\n",
    "#TV\n",
    "tv_MEAN = df_temp['TV'].mean()\n",
    "tv_STD = df_temp['TV'].std()\n",
    "df_temp['TV'] = (df_temp['TV'] - tv_MEAN)/tv_STD\n",
    "\n",
    "#Radio\n",
    "radio_MEAN = df_temp['Radio'].mean()\n",
    "radio_STD = df_temp['Radio'].std()\n",
    "df_temp['Radio'] = (df_temp['Radio'] - radio_MEAN)/radio_STD\n",
    "\n",
    "#Newspaper\n",
    "news_MEAN = df_temp['Newspaper'].mean()\n",
    "news_STD = df_temp['Newspaper'].std()\n",
    "df_temp['Newspaper'] = (df_temp['Newspaper'] - news_MEAN)/news_STD\n",
    "\n",
    "#Sales\n",
    "sale_MEAN = df_temp['Sales'].mean()\n",
    "sale_STD = df_temp['Sales'].std()\n",
    "df_temp['Sales'] = (df_temp['Sales'] - sale_MEAN)/sale_STD\n",
    "\n",
    "df_temp"
   ]
  },
  {
   "cell_type": "code",
   "execution_count": 4,
   "id": "84784e01",
   "metadata": {},
   "outputs": [
    {
     "data": {
      "text/html": [
       "<div>\n",
       "<style scoped>\n",
       "    .dataframe tbody tr th:only-of-type {\n",
       "        vertical-align: middle;\n",
       "    }\n",
       "\n",
       "    .dataframe tbody tr th {\n",
       "        vertical-align: top;\n",
       "    }\n",
       "\n",
       "    .dataframe thead th {\n",
       "        text-align: right;\n",
       "    }\n",
       "</style>\n",
       "<table border=\"1\" class=\"dataframe\">\n",
       "  <thead>\n",
       "    <tr style=\"text-align: right;\">\n",
       "      <th></th>\n",
       "      <th>TV</th>\n",
       "      <th>Radio</th>\n",
       "      <th>Newspaper</th>\n",
       "      <th>Sales</th>\n",
       "    </tr>\n",
       "  </thead>\n",
       "  <tbody>\n",
       "    <tr>\n",
       "      <th>0</th>\n",
       "      <td>0.969852</td>\n",
       "      <td>0.981522</td>\n",
       "      <td>1.778945</td>\n",
       "      <td>1.552053</td>\n",
       "    </tr>\n",
       "    <tr>\n",
       "      <th>1</th>\n",
       "      <td>-1.197376</td>\n",
       "      <td>1.082808</td>\n",
       "      <td>0.669579</td>\n",
       "      <td>-0.696046</td>\n",
       "    </tr>\n",
       "    <tr>\n",
       "      <th>2</th>\n",
       "      <td>-1.516155</td>\n",
       "      <td>1.528463</td>\n",
       "      <td>1.783549</td>\n",
       "      <td>-0.907406</td>\n",
       "    </tr>\n",
       "    <tr>\n",
       "      <th>3</th>\n",
       "      <td>0.052050</td>\n",
       "      <td>1.217855</td>\n",
       "      <td>1.286405</td>\n",
       "      <td>0.860330</td>\n",
       "    </tr>\n",
       "    <tr>\n",
       "      <th>4</th>\n",
       "      <td>0.394182</td>\n",
       "      <td>-0.841614</td>\n",
       "      <td>1.281802</td>\n",
       "      <td>-0.215683</td>\n",
       "    </tr>\n",
       "    <tr>\n",
       "      <th>...</th>\n",
       "      <td>...</td>\n",
       "      <td>...</td>\n",
       "      <td>...</td>\n",
       "      <td>...</td>\n",
       "    </tr>\n",
       "    <tr>\n",
       "      <th>195</th>\n",
       "      <td>-1.270941</td>\n",
       "      <td>-1.321031</td>\n",
       "      <td>-0.771217</td>\n",
       "      <td>-1.234053</td>\n",
       "    </tr>\n",
       "    <tr>\n",
       "      <th>196</th>\n",
       "      <td>-0.617035</td>\n",
       "      <td>-1.240003</td>\n",
       "      <td>-1.033598</td>\n",
       "      <td>-0.830548</td>\n",
       "    </tr>\n",
       "    <tr>\n",
       "      <th>197</th>\n",
       "      <td>0.349810</td>\n",
       "      <td>-0.942899</td>\n",
       "      <td>-1.111852</td>\n",
       "      <td>-0.234898</td>\n",
       "    </tr>\n",
       "    <tr>\n",
       "      <th>198</th>\n",
       "      <td>1.594565</td>\n",
       "      <td>1.265121</td>\n",
       "      <td>1.640850</td>\n",
       "      <td>2.205347</td>\n",
       "    </tr>\n",
       "    <tr>\n",
       "      <th>199</th>\n",
       "      <td>0.993206</td>\n",
       "      <td>-0.990165</td>\n",
       "      <td>-1.005979</td>\n",
       "      <td>-0.119610</td>\n",
       "    </tr>\n",
       "  </tbody>\n",
       "</table>\n",
       "<p>200 rows × 4 columns</p>\n",
       "</div>"
      ],
      "text/plain": [
       "           TV     Radio  Newspaper     Sales\n",
       "0    0.969852  0.981522   1.778945  1.552053\n",
       "1   -1.197376  1.082808   0.669579 -0.696046\n",
       "2   -1.516155  1.528463   1.783549 -0.907406\n",
       "3    0.052050  1.217855   1.286405  0.860330\n",
       "4    0.394182 -0.841614   1.281802 -0.215683\n",
       "..        ...       ...        ...       ...\n",
       "195 -1.270941 -1.321031  -0.771217 -1.234053\n",
       "196 -0.617035 -1.240003  -1.033598 -0.830548\n",
       "197  0.349810 -0.942899  -1.111852 -0.234898\n",
       "198  1.594565  1.265121   1.640850  2.205347\n",
       "199  0.993206 -0.990165  -1.005979 -0.119610\n",
       "\n",
       "[200 rows x 4 columns]"
      ]
     },
     "execution_count": 4,
     "metadata": {},
     "output_type": "execute_result"
    }
   ],
   "source": [
    "#preprocessing.scale function from sklearn\n",
    "df_standard = preprocessing.scale(df)\n",
    "\n",
    "#Convert Standardized data to dataframe\n",
    "df_standard = pd.DataFrame(df_standard, columns = df.columns)\n",
    "\n",
    "df_standard"
   ]
  },
  {
   "cell_type": "code",
   "execution_count": 5,
   "id": "c3624211",
   "metadata": {},
   "outputs": [
    {
     "data": {
      "text/html": [
       "<div>\n",
       "<style scoped>\n",
       "    .dataframe tbody tr th:only-of-type {\n",
       "        vertical-align: middle;\n",
       "    }\n",
       "\n",
       "    .dataframe tbody tr th {\n",
       "        vertical-align: top;\n",
       "    }\n",
       "\n",
       "    .dataframe thead th {\n",
       "        text-align: right;\n",
       "    }\n",
       "</style>\n",
       "<table border=\"1\" class=\"dataframe\">\n",
       "  <thead>\n",
       "    <tr style=\"text-align: right;\">\n",
       "      <th></th>\n",
       "      <th>origin</th>\n",
       "      <th>TV</th>\n",
       "      <th>Radio</th>\n",
       "      <th>Newspaper</th>\n",
       "      <th>Sales</th>\n",
       "    </tr>\n",
       "  </thead>\n",
       "  <tbody>\n",
       "    <tr>\n",
       "      <th>0</th>\n",
       "      <td>1</td>\n",
       "      <td>0.969852</td>\n",
       "      <td>0.981522</td>\n",
       "      <td>1.778945</td>\n",
       "      <td>1.552053</td>\n",
       "    </tr>\n",
       "    <tr>\n",
       "      <th>1</th>\n",
       "      <td>1</td>\n",
       "      <td>-1.197376</td>\n",
       "      <td>1.082808</td>\n",
       "      <td>0.669579</td>\n",
       "      <td>-0.696046</td>\n",
       "    </tr>\n",
       "    <tr>\n",
       "      <th>2</th>\n",
       "      <td>1</td>\n",
       "      <td>-1.516155</td>\n",
       "      <td>1.528463</td>\n",
       "      <td>1.783549</td>\n",
       "      <td>-0.907406</td>\n",
       "    </tr>\n",
       "    <tr>\n",
       "      <th>3</th>\n",
       "      <td>1</td>\n",
       "      <td>0.052050</td>\n",
       "      <td>1.217855</td>\n",
       "      <td>1.286405</td>\n",
       "      <td>0.860330</td>\n",
       "    </tr>\n",
       "    <tr>\n",
       "      <th>4</th>\n",
       "      <td>1</td>\n",
       "      <td>0.394182</td>\n",
       "      <td>-0.841614</td>\n",
       "      <td>1.281802</td>\n",
       "      <td>-0.215683</td>\n",
       "    </tr>\n",
       "    <tr>\n",
       "      <th>...</th>\n",
       "      <td>...</td>\n",
       "      <td>...</td>\n",
       "      <td>...</td>\n",
       "      <td>...</td>\n",
       "      <td>...</td>\n",
       "    </tr>\n",
       "    <tr>\n",
       "      <th>195</th>\n",
       "      <td>1</td>\n",
       "      <td>-1.270941</td>\n",
       "      <td>-1.321031</td>\n",
       "      <td>-0.771217</td>\n",
       "      <td>-1.234053</td>\n",
       "    </tr>\n",
       "    <tr>\n",
       "      <th>196</th>\n",
       "      <td>1</td>\n",
       "      <td>-0.617035</td>\n",
       "      <td>-1.240003</td>\n",
       "      <td>-1.033598</td>\n",
       "      <td>-0.830548</td>\n",
       "    </tr>\n",
       "    <tr>\n",
       "      <th>197</th>\n",
       "      <td>1</td>\n",
       "      <td>0.349810</td>\n",
       "      <td>-0.942899</td>\n",
       "      <td>-1.111852</td>\n",
       "      <td>-0.234898</td>\n",
       "    </tr>\n",
       "    <tr>\n",
       "      <th>198</th>\n",
       "      <td>1</td>\n",
       "      <td>1.594565</td>\n",
       "      <td>1.265121</td>\n",
       "      <td>1.640850</td>\n",
       "      <td>2.205347</td>\n",
       "    </tr>\n",
       "    <tr>\n",
       "      <th>199</th>\n",
       "      <td>1</td>\n",
       "      <td>0.993206</td>\n",
       "      <td>-0.990165</td>\n",
       "      <td>-1.005979</td>\n",
       "      <td>-0.119610</td>\n",
       "    </tr>\n",
       "  </tbody>\n",
       "</table>\n",
       "<p>200 rows × 5 columns</p>\n",
       "</div>"
      ],
      "text/plain": [
       "     origin        TV     Radio  Newspaper     Sales\n",
       "0         1  0.969852  0.981522   1.778945  1.552053\n",
       "1         1 -1.197376  1.082808   0.669579 -0.696046\n",
       "2         1 -1.516155  1.528463   1.783549 -0.907406\n",
       "3         1  0.052050  1.217855   1.286405  0.860330\n",
       "4         1  0.394182 -0.841614   1.281802 -0.215683\n",
       "..      ...       ...       ...        ...       ...\n",
       "195       1 -1.270941 -1.321031  -0.771217 -1.234053\n",
       "196       1 -0.617035 -1.240003  -1.033598 -0.830548\n",
       "197       1  0.349810 -0.942899  -1.111852 -0.234898\n",
       "198       1  1.594565  1.265121   1.640850  2.205347\n",
       "199       1  0.993206 -0.990165  -1.005979 -0.119610\n",
       "\n",
       "[200 rows x 5 columns]"
      ]
     },
     "execution_count": 5,
     "metadata": {},
     "output_type": "execute_result"
    }
   ],
   "source": [
    "#adding a column with value of 1\n",
    "df_standard.insert(0,'origin',1)\n",
    "df_standard"
   ]
  },
  {
   "cell_type": "code",
   "execution_count": 6,
   "id": "510f394b",
   "metadata": {},
   "outputs": [
    {
     "name": "stdout",
     "output_type": "stream",
     "text": [
      "x_train =  (170, 4)\n",
      "y_train =  (170,)\n",
      "x_test =  (30, 4)\n",
      "y_test =  (30,)\n"
     ]
    }
   ],
   "source": [
    "x = df_standard[['origin','TV','Radio','Newspaper']]\n",
    "y = df_standard['Sales']\n",
    "\n",
    "x_train, x_test, y_train, y_test = train_test_split(x, y, train_size=0.85, test_size=0.15)\n",
    "\n",
    "print(\"x_train = \", x_train.shape)\n",
    "print(\"y_train = \", y_train.shape)\n",
    "print(\"x_test = \", x_test.shape)\n",
    "print(\"y_test = \", y_test.shape)"
   ]
  },
  {
   "cell_type": "code",
   "execution_count": 7,
   "id": "1f0cf056",
   "metadata": {},
   "outputs": [
    {
     "data": {
      "text/plain": [
       "array([0.82676515, 0.23059441, 0.14422402, 0.08076867])"
      ]
     },
     "execution_count": 7,
     "metadata": {},
     "output_type": "execute_result"
    }
   ],
   "source": [
    "def initialize_theta(x, random=False):\n",
    "    xLength = x.shape[1]\n",
    "    \n",
    "    if random:\n",
    "        return np.random.rand(xLength)\n",
    "    return np.zeros(xLength)\n",
    "\n",
    "#Initializing in random\n",
    "theta = initialize_theta(x_train, random=True)\n",
    "theta"
   ]
  },
  {
   "cell_type": "code",
   "execution_count": 8,
   "id": "62b9698c",
   "metadata": {},
   "outputs": [
    {
     "data": {
      "text/plain": [
       "array([0., 0., 0., 0.])"
      ]
     },
     "execution_count": 8,
     "metadata": {},
     "output_type": "execute_result"
    }
   ],
   "source": [
    "#Initializing in Zeros\n",
    "theta = initialize_theta(x_train)\n",
    "theta"
   ]
  },
  {
   "cell_type": "code",
   "execution_count": 9,
   "id": "21e01d9c",
   "metadata": {},
   "outputs": [],
   "source": [
    "def predict(x, theta):\n",
    "    y_hat = np.dot(x, theta)\n",
    "    \n",
    "    return y_hat"
   ]
  },
  {
   "cell_type": "code",
   "execution_count": 10,
   "id": "30055135",
   "metadata": {},
   "outputs": [
    {
     "data": {
      "text/html": [
       "<div>\n",
       "<style scoped>\n",
       "    .dataframe tbody tr th:only-of-type {\n",
       "        vertical-align: middle;\n",
       "    }\n",
       "\n",
       "    .dataframe tbody tr th {\n",
       "        vertical-align: top;\n",
       "    }\n",
       "\n",
       "    .dataframe thead th {\n",
       "        text-align: right;\n",
       "    }\n",
       "</style>\n",
       "<table border=\"1\" class=\"dataframe\">\n",
       "  <thead>\n",
       "    <tr style=\"text-align: right;\">\n",
       "      <th></th>\n",
       "      <th>Real Values</th>\n",
       "      <th>Prediction Values</th>\n",
       "    </tr>\n",
       "  </thead>\n",
       "  <tbody>\n",
       "    <tr>\n",
       "      <th>153</th>\n",
       "      <td>0.956403</td>\n",
       "      <td>0.277438</td>\n",
       "    </tr>\n",
       "    <tr>\n",
       "      <th>132</th>\n",
       "      <td>-1.599129</td>\n",
       "      <td>-0.671198</td>\n",
       "    </tr>\n",
       "    <tr>\n",
       "      <th>107</th>\n",
       "      <td>-1.022693</td>\n",
       "      <td>-0.322683</td>\n",
       "    </tr>\n",
       "    <tr>\n",
       "      <th>3</th>\n",
       "      <td>0.860330</td>\n",
       "      <td>0.473059</td>\n",
       "    </tr>\n",
       "    <tr>\n",
       "      <th>56</th>\n",
       "      <td>-1.637558</td>\n",
       "      <td>-0.207997</td>\n",
       "    </tr>\n",
       "    <tr>\n",
       "      <th>...</th>\n",
       "      <td>...</td>\n",
       "      <td>...</td>\n",
       "    </tr>\n",
       "    <tr>\n",
       "      <th>93</th>\n",
       "      <td>1.571268</td>\n",
       "      <td>0.896509</td>\n",
       "    </tr>\n",
       "    <tr>\n",
       "      <th>197</th>\n",
       "      <td>-0.234898</td>\n",
       "      <td>-0.226410</td>\n",
       "    </tr>\n",
       "    <tr>\n",
       "      <th>24</th>\n",
       "      <td>-0.830548</td>\n",
       "      <td>-0.399276</td>\n",
       "    </tr>\n",
       "    <tr>\n",
       "      <th>164</th>\n",
       "      <td>-0.407828</td>\n",
       "      <td>-0.382755</td>\n",
       "    </tr>\n",
       "    <tr>\n",
       "      <th>90</th>\n",
       "      <td>-0.542330</td>\n",
       "      <td>-0.336958</td>\n",
       "    </tr>\n",
       "  </tbody>\n",
       "</table>\n",
       "<p>170 rows × 2 columns</p>\n",
       "</div>"
      ],
      "text/plain": [
       "     Real Values  Prediction Values\n",
       "153     0.956403           0.277438\n",
       "132    -1.599129          -0.671198\n",
       "107    -1.022693          -0.322683\n",
       "3       0.860330           0.473059\n",
       "56     -1.637558          -0.207997\n",
       "..           ...                ...\n",
       "93      1.571268           0.896509\n",
       "197    -0.234898          -0.226410\n",
       "24     -0.830548          -0.399276\n",
       "164    -0.407828          -0.382755\n",
       "90     -0.542330          -0.336958\n",
       "\n",
       "[170 rows x 2 columns]"
      ]
     },
     "execution_count": 10,
     "metadata": {},
     "output_type": "execute_result"
    }
   ],
   "source": [
    "y_hat_train = predict(x_train, initialize_theta(x_train, random = True))\n",
    "\n",
    "df_train = pd.DataFrame({'Real Values' : y_train, 'Prediction Values' : y_hat_train})\n",
    "df_train"
   ]
  },
  {
   "cell_type": "code",
   "execution_count": 11,
   "id": "f7e0541d",
   "metadata": {},
   "outputs": [
    {
     "name": "stdout",
     "output_type": "stream",
     "text": [
      "0.4165887692410417\n"
     ]
    }
   ],
   "source": [
    "def compute_cost(x, y, theta):\n",
    "    m = len(y)\n",
    "    \n",
    "    #soves for cost using the given formula\n",
    "    cost = 1/(2*m) * np.sum((predict(x, theta) - y)**2)\n",
    "    return cost\n",
    "\n",
    "#printing the cost using the training set\n",
    "testCost = compute_cost(x_train, y_train, initialize_theta(x_train, random = True))\n",
    "print(testCost)"
   ]
  },
  {
   "cell_type": "code",
   "execution_count": 12,
   "id": "45708d67",
   "metadata": {},
   "outputs": [],
   "source": [
    "def compute_gradient(x, y, theta):\n",
    "    m = len(y)\n",
    "    w = 1/m * np.dot(x.T, (predict(x, theta) - y))\n",
    "\n",
    "    return w"
   ]
  },
  {
   "cell_type": "code",
   "execution_count": 13,
   "id": "cc94440b",
   "metadata": {},
   "outputs": [],
   "source": [
    "def new_theta (x, y, theta, a):\n",
    "    new_theta = theta - a * compute_gradient(x, y, theta)\n",
    "    \n",
    "    return new_theta"
   ]
  },
  {
   "cell_type": "code",
   "execution_count": 14,
   "id": "a06e17f6",
   "metadata": {},
   "outputs": [],
   "source": [
    "def grad_descent(x, y, theta, alpha, iterations):\n",
    "    \n",
    "    theta_matrix = [0] * iterations\n",
    "    cost_matrix = [0] * iterations\n",
    "\n",
    "    for i in range(iterations):\n",
    "        # Update the theta\n",
    "        theta = new_theta(x, y, theta, alpha)\n",
    "        # Save the theta in the theta matrix\n",
    "        theta_matrix[i] = theta\n",
    "        # Compute the cost\n",
    "        cost = compute_cost(x, y, theta)\n",
    "        # Save the cost in the cost history theta\n",
    "        cost_matrix[i] = cost\n",
    "    \n",
    "    return theta_matrix, cost_matrix"
   ]
  },
  {
   "cell_type": "code",
   "execution_count": 15,
   "id": "4163c1e1",
   "metadata": {},
   "outputs": [],
   "source": [
    "def plot_costs(cost_array):\n",
    "    # Set the size of the plot\n",
    "    plt.figure(figsize=(20, 10))\n",
    "    plt.plot(cost_array)\n",
    "    \n",
    "    plt.title('Cost over Iterations')\n",
    "    plt.xlabel('Iterations')\n",
    "    plt.ylabel('Cost')\n",
    "    plt.show()"
   ]
  },
  {
   "cell_type": "code",
   "execution_count": 16,
   "id": "68a7b5cf",
   "metadata": {},
   "outputs": [
    {
     "data": {
      "text/html": [
       "<div>\n",
       "<style scoped>\n",
       "    .dataframe tbody tr th:only-of-type {\n",
       "        vertical-align: middle;\n",
       "    }\n",
       "\n",
       "    .dataframe tbody tr th {\n",
       "        vertical-align: top;\n",
       "    }\n",
       "\n",
       "    .dataframe thead th {\n",
       "        text-align: right;\n",
       "    }\n",
       "</style>\n",
       "<table border=\"1\" class=\"dataframe\">\n",
       "  <thead>\n",
       "    <tr style=\"text-align: right;\">\n",
       "      <th></th>\n",
       "      <th>Real Values</th>\n",
       "      <th>Prediction Values</th>\n",
       "    </tr>\n",
       "  </thead>\n",
       "  <tbody>\n",
       "    <tr>\n",
       "      <th>153</th>\n",
       "      <td>0.956403</td>\n",
       "      <td>0.327220</td>\n",
       "    </tr>\n",
       "    <tr>\n",
       "      <th>132</th>\n",
       "      <td>-1.599129</td>\n",
       "      <td>-0.606412</td>\n",
       "    </tr>\n",
       "    <tr>\n",
       "      <th>107</th>\n",
       "      <td>-1.022693</td>\n",
       "      <td>-0.204276</td>\n",
       "    </tr>\n",
       "    <tr>\n",
       "      <th>3</th>\n",
       "      <td>0.860330</td>\n",
       "      <td>0.291940</td>\n",
       "    </tr>\n",
       "    <tr>\n",
       "      <th>56</th>\n",
       "      <td>-1.637558</td>\n",
       "      <td>-0.498741</td>\n",
       "    </tr>\n",
       "    <tr>\n",
       "      <th>...</th>\n",
       "      <td>...</td>\n",
       "      <td>...</td>\n",
       "    </tr>\n",
       "    <tr>\n",
       "      <th>93</th>\n",
       "      <td>1.571268</td>\n",
       "      <td>0.810492</td>\n",
       "    </tr>\n",
       "    <tr>\n",
       "      <th>197</th>\n",
       "      <td>-0.234898</td>\n",
       "      <td>0.196585</td>\n",
       "    </tr>\n",
       "    <tr>\n",
       "      <th>24</th>\n",
       "      <td>-0.830548</td>\n",
       "      <td>-0.328365</td>\n",
       "    </tr>\n",
       "    <tr>\n",
       "      <th>164</th>\n",
       "      <td>-0.407828</td>\n",
       "      <td>-0.088939</td>\n",
       "    </tr>\n",
       "    <tr>\n",
       "      <th>90</th>\n",
       "      <td>-0.542330</td>\n",
       "      <td>-0.016189</td>\n",
       "    </tr>\n",
       "  </tbody>\n",
       "</table>\n",
       "<p>170 rows × 2 columns</p>\n",
       "</div>"
      ],
      "text/plain": [
       "     Real Values  Prediction Values\n",
       "153     0.956403           0.327220\n",
       "132    -1.599129          -0.606412\n",
       "107    -1.022693          -0.204276\n",
       "3       0.860330           0.291940\n",
       "56     -1.637558          -0.498741\n",
       "..           ...                ...\n",
       "93      1.571268           0.810492\n",
       "197    -0.234898           0.196585\n",
       "24     -0.830548          -0.328365\n",
       "164    -0.407828          -0.088939\n",
       "90     -0.542330          -0.016189\n",
       "\n",
       "[170 rows x 2 columns]"
      ]
     },
     "execution_count": 16,
     "metadata": {},
     "output_type": "execute_result"
    }
   ],
   "source": [
    "theta = initialize_theta(x_train, random=True)\n",
    "y_hat_train = predict(x_train, theta)\n",
    "y_hat_train_df = pd.DataFrame({'Real Values': y_train, 'Prediction Values': y_hat_train})\n",
    "y_hat_train_df"
   ]
  },
  {
   "cell_type": "code",
   "execution_count": 17,
   "id": "d021d046",
   "metadata": {},
   "outputs": [
    {
     "data": {
      "text/plain": [
       "0.23555802113391727"
      ]
     },
     "execution_count": 17,
     "metadata": {},
     "output_type": "execute_result"
    }
   ],
   "source": [
    "train_cost = compute_cost(x_train, y_train, theta)\n",
    "train_cost"
   ]
  },
  {
   "cell_type": "code",
   "execution_count": 18,
   "id": "f7362dae",
   "metadata": {
    "scrolled": true
   },
   "outputs": [
    {
     "data": {
      "text/html": [
       "<div>\n",
       "<style scoped>\n",
       "    .dataframe tbody tr th:only-of-type {\n",
       "        vertical-align: middle;\n",
       "    }\n",
       "\n",
       "    .dataframe tbody tr th {\n",
       "        vertical-align: top;\n",
       "    }\n",
       "\n",
       "    .dataframe thead th {\n",
       "        text-align: right;\n",
       "    }\n",
       "</style>\n",
       "<table border=\"1\" class=\"dataframe\">\n",
       "  <thead>\n",
       "    <tr style=\"text-align: right;\">\n",
       "      <th></th>\n",
       "      <th>Real Values</th>\n",
       "      <th>Prediction Values</th>\n",
       "      <th>Residual</th>\n",
       "    </tr>\n",
       "  </thead>\n",
       "  <tbody>\n",
       "    <tr>\n",
       "      <th>54</th>\n",
       "      <td>1.186977</td>\n",
       "      <td>1.345597</td>\n",
       "      <td>-0.158620</td>\n",
       "    </tr>\n",
       "    <tr>\n",
       "      <th>92</th>\n",
       "      <td>1.033261</td>\n",
       "      <td>1.443429</td>\n",
       "      <td>-0.410168</td>\n",
       "    </tr>\n",
       "    <tr>\n",
       "      <th>5</th>\n",
       "      <td>-1.310911</td>\n",
       "      <td>0.659880</td>\n",
       "      <td>-1.970791</td>\n",
       "    </tr>\n",
       "    <tr>\n",
       "      <th>44</th>\n",
       "      <td>-1.061122</td>\n",
       "      <td>-0.760491</td>\n",
       "      <td>-0.300631</td>\n",
       "    </tr>\n",
       "    <tr>\n",
       "      <th>111</th>\n",
       "      <td>1.494410</td>\n",
       "      <td>1.760018</td>\n",
       "      <td>-0.265609</td>\n",
       "    </tr>\n",
       "    <tr>\n",
       "      <th>162</th>\n",
       "      <td>0.168607</td>\n",
       "      <td>0.098369</td>\n",
       "      <td>0.070238</td>\n",
       "    </tr>\n",
       "    <tr>\n",
       "      <th>33</th>\n",
       "      <td>0.648971</td>\n",
       "      <td>0.761869</td>\n",
       "      <td>-0.112898</td>\n",
       "    </tr>\n",
       "    <tr>\n",
       "      <th>70</th>\n",
       "      <td>0.821901</td>\n",
       "      <td>1.013341</td>\n",
       "      <td>-0.191439</td>\n",
       "    </tr>\n",
       "    <tr>\n",
       "      <th>188</th>\n",
       "      <td>0.360753</td>\n",
       "      <td>0.580599</td>\n",
       "      <td>-0.219846</td>\n",
       "    </tr>\n",
       "    <tr>\n",
       "      <th>187</th>\n",
       "      <td>0.629756</td>\n",
       "      <td>0.734491</td>\n",
       "      <td>-0.104735</td>\n",
       "    </tr>\n",
       "    <tr>\n",
       "      <th>181</th>\n",
       "      <td>-0.350185</td>\n",
       "      <td>-0.409631</td>\n",
       "      <td>0.059447</td>\n",
       "    </tr>\n",
       "    <tr>\n",
       "      <th>149</th>\n",
       "      <td>-0.753690</td>\n",
       "      <td>-0.690104</td>\n",
       "      <td>-0.063586</td>\n",
       "    </tr>\n",
       "    <tr>\n",
       "      <th>8</th>\n",
       "      <td>-1.772059</td>\n",
       "      <td>-2.536789</td>\n",
       "      <td>0.764730</td>\n",
       "    </tr>\n",
       "    <tr>\n",
       "      <th>117</th>\n",
       "      <td>-0.888191</td>\n",
       "      <td>-1.969873</td>\n",
       "      <td>1.081681</td>\n",
       "    </tr>\n",
       "    <tr>\n",
       "      <th>159</th>\n",
       "      <td>-0.215683</td>\n",
       "      <td>-0.329465</td>\n",
       "      <td>0.113782</td>\n",
       "    </tr>\n",
       "    <tr>\n",
       "      <th>167</th>\n",
       "      <td>-0.350185</td>\n",
       "      <td>-0.559154</td>\n",
       "      <td>0.208970</td>\n",
       "    </tr>\n",
       "    <tr>\n",
       "      <th>161</th>\n",
       "      <td>-0.138825</td>\n",
       "      <td>0.404420</td>\n",
       "      <td>-0.543245</td>\n",
       "    </tr>\n",
       "    <tr>\n",
       "      <th>50</th>\n",
       "      <td>-0.503901</td>\n",
       "      <td>-0.677705</td>\n",
       "      <td>0.173804</td>\n",
       "    </tr>\n",
       "    <tr>\n",
       "      <th>47</th>\n",
       "      <td>1.763413</td>\n",
       "      <td>1.936558</td>\n",
       "      <td>-0.173146</td>\n",
       "    </tr>\n",
       "    <tr>\n",
       "      <th>52</th>\n",
       "      <td>1.648126</td>\n",
       "      <td>1.843604</td>\n",
       "      <td>-0.195478</td>\n",
       "    </tr>\n",
       "    <tr>\n",
       "      <th>49</th>\n",
       "      <td>-0.830548</td>\n",
       "      <td>-1.285346</td>\n",
       "      <td>0.454798</td>\n",
       "    </tr>\n",
       "    <tr>\n",
       "      <th>94</th>\n",
       "      <td>-0.484686</td>\n",
       "      <td>-0.915709</td>\n",
       "      <td>0.431023</td>\n",
       "    </tr>\n",
       "    <tr>\n",
       "      <th>112</th>\n",
       "      <td>0.014891</td>\n",
       "      <td>-0.282105</td>\n",
       "      <td>0.296996</td>\n",
       "    </tr>\n",
       "    <tr>\n",
       "      <th>177</th>\n",
       "      <td>-0.446257</td>\n",
       "      <td>-0.642602</td>\n",
       "      <td>0.196345</td>\n",
       "    </tr>\n",
       "    <tr>\n",
       "      <th>35</th>\n",
       "      <td>-0.234898</td>\n",
       "      <td>0.044980</td>\n",
       "      <td>-0.279878</td>\n",
       "    </tr>\n",
       "    <tr>\n",
       "      <th>36</th>\n",
       "      <td>2.186132</td>\n",
       "      <td>2.247064</td>\n",
       "      <td>-0.060932</td>\n",
       "    </tr>\n",
       "    <tr>\n",
       "      <th>134</th>\n",
       "      <td>-0.619188</td>\n",
       "      <td>0.230587</td>\n",
       "      <td>-0.849776</td>\n",
       "    </tr>\n",
       "    <tr>\n",
       "      <th>100</th>\n",
       "      <td>-0.446257</td>\n",
       "      <td>-0.340388</td>\n",
       "      <td>-0.105869</td>\n",
       "    </tr>\n",
       "    <tr>\n",
       "      <th>68</th>\n",
       "      <td>0.937188</td>\n",
       "      <td>1.026255</td>\n",
       "      <td>-0.089066</td>\n",
       "    </tr>\n",
       "    <tr>\n",
       "      <th>155</th>\n",
       "      <td>-2.079492</td>\n",
       "      <td>-1.974143</td>\n",
       "      <td>-0.105349</td>\n",
       "    </tr>\n",
       "  </tbody>\n",
       "</table>\n",
       "</div>"
      ],
      "text/plain": [
       "     Real Values  Prediction Values  Residual\n",
       "54      1.186977           1.345597 -0.158620\n",
       "92      1.033261           1.443429 -0.410168\n",
       "5      -1.310911           0.659880 -1.970791\n",
       "44     -1.061122          -0.760491 -0.300631\n",
       "111     1.494410           1.760018 -0.265609\n",
       "162     0.168607           0.098369  0.070238\n",
       "33      0.648971           0.761869 -0.112898\n",
       "70      0.821901           1.013341 -0.191439\n",
       "188     0.360753           0.580599 -0.219846\n",
       "187     0.629756           0.734491 -0.104735\n",
       "181    -0.350185          -0.409631  0.059447\n",
       "149    -0.753690          -0.690104 -0.063586\n",
       "8      -1.772059          -2.536789  0.764730\n",
       "117    -0.888191          -1.969873  1.081681\n",
       "159    -0.215683          -0.329465  0.113782\n",
       "167    -0.350185          -0.559154  0.208970\n",
       "161    -0.138825           0.404420 -0.543245\n",
       "50     -0.503901          -0.677705  0.173804\n",
       "47      1.763413           1.936558 -0.173146\n",
       "52      1.648126           1.843604 -0.195478\n",
       "49     -0.830548          -1.285346  0.454798\n",
       "94     -0.484686          -0.915709  0.431023\n",
       "112     0.014891          -0.282105  0.296996\n",
       "177    -0.446257          -0.642602  0.196345\n",
       "35     -0.234898           0.044980 -0.279878\n",
       "36      2.186132           2.247064 -0.060932\n",
       "134    -0.619188           0.230587 -0.849776\n",
       "100    -0.446257          -0.340388 -0.105869\n",
       "68      0.937188           1.026255 -0.089066\n",
       "155    -2.079492          -1.974143 -0.105349"
      ]
     },
     "execution_count": 18,
     "metadata": {},
     "output_type": "execute_result"
    }
   ],
   "source": [
    "theta = initialize_theta(x_test, random=True)\n",
    "y_hat_test = predict(x_test, theta)\n",
    "y_hat_test_df = pd.DataFrame({'Real Values': y_test, 'Prediction Values': y_hat_test})\n",
    "y_hat_test_df['Residual'] = y_hat_test_df['Real Values'] - y_hat_test_df['Prediction Values']\n",
    "y_hat_test_df"
   ]
  },
  {
   "cell_type": "code",
   "execution_count": 19,
   "id": "1ecb516f",
   "metadata": {},
   "outputs": [
    {
     "data": {
      "text/plain": [
       "0.13197176559875842"
      ]
     },
     "execution_count": 19,
     "metadata": {},
     "output_type": "execute_result"
    }
   ],
   "source": [
    "testCost = compute_cost(x_test, y_test, theta)\n",
    "testCost"
   ]
  },
  {
   "cell_type": "code",
   "execution_count": 20,
   "id": "5affc9c9",
   "metadata": {},
   "outputs": [],
   "source": [
    "theta = initialize_theta(x_train, random=True)\n",
    "\n",
    "iterations = 10000\n",
    "alpha = 0.01\n",
    "\n",
    "theta_matrix_train, cost_matrix_train = grad_descent(x_train, y_train, theta, alpha, iterations)\n",
    "\n",
    "theta_matrix_test, cost_matrix_test = grad_descent(x_test, y_test, theta, alpha, iterations)"
   ]
  },
  {
   "cell_type": "code",
   "execution_count": 21,
   "id": "c489fc34",
   "metadata": {},
   "outputs": [
    {
     "data": {
      "image/png": "[encoded data removed]",
      "text/plain": [
       "<Figure size 1440x720 with 1 Axes>"
      ]
     },
     "metadata": {
      "needs_background": "light"
     },
     "output_type": "display_data"
    }
   ],
   "source": [
    "y_hat_train = predict(x_train, theta_matrix_train[-1])\n",
    "\n",
    "# For plotting\n",
    "plt.figure(figsize=(20, 10))\n",
    "plt.title('Real Values vs Prediction Values Quantitative Response (Train Set)')\n",
    "plt.xlabel('Real Quantitative Response')\n",
    "plt.ylabel('Prediction Quantitative Response')\n",
    "plt.scatter(y_train, y_hat_train)\n",
    "\n",
    "# Best Fit Line\n",
    "plt.plot(y_train, y_train, color='blue')\n",
    "#Shows MSE\n",
    "plt.text(0.5, 0.20, f\"MSE: {mean_squared_error(y_train, y_hat_train)}\", color='pink', fontsize=12)\n",
    "plt.show()"
   ]
  },
  {
   "cell_type": "code",
   "execution_count": 22,
   "id": "c548c875",
   "metadata": {},
   "outputs": [
    {
     "data": {
      "image/png": "[encoded data removed]",
      "text/plain": [
       "<Figure size 1440x720 with 1 Axes>"
      ]
     },
     "metadata": {
      "needs_background": "light"
     },
     "output_type": "display_data"
    }
   ],
   "source": [
    "y_hat_test = predict(x_test, theta_matrix_train[-1])\n",
    "\n",
    "plt.figure(figsize=(20, 10))\n",
    "plt.scatter(y_test, y_hat_test)\n",
    "plt.title('Real vs Prediction Quantitative Response (TEST SET)')\n",
    "plt.xlabel('Real Quantitative Response')\n",
    "plt.ylabel('Prediction Quantitative Response')\n",
    "\n",
    "# Best Fit Line\n",
    "plt.plot(y_test, y_test, color='blue')\n",
    "#Shows MSE\n",
    "plt.text(0.5, 0.20, f\"MSE: {mean_squared_error(y_test, y_hat_test)}\", color='pink', fontsize=12)\n",
    "plt.show()"
   ]
  },
  {
   "cell_type": "code",
   "execution_count": 23,
   "id": "65562e1c",
   "metadata": {},
   "outputs": [
    {
     "data": {
      "text/html": [
       "<div>\n",
       "<style scoped>\n",
       "    .dataframe tbody tr th:only-of-type {\n",
       "        vertical-align: middle;\n",
       "    }\n",
       "\n",
       "    .dataframe tbody tr th {\n",
       "        vertical-align: top;\n",
       "    }\n",
       "\n",
       "    .dataframe thead th {\n",
       "        text-align: right;\n",
       "    }\n",
       "</style>\n",
       "<table border=\"1\" class=\"dataframe\">\n",
       "  <thead>\n",
       "    <tr style=\"text-align: right;\">\n",
       "      <th></th>\n",
       "      <th>TV</th>\n",
       "      <th>Radio</th>\n",
       "      <th>Newspaper</th>\n",
       "      <th>Sales</th>\n",
       "      <th>Predicted Sales</th>\n",
       "      <th>Residuals</th>\n",
       "    </tr>\n",
       "  </thead>\n",
       "  <tbody>\n",
       "    <tr>\n",
       "      <th>0</th>\n",
       "      <td>230.308426</td>\n",
       "      <td>37.836477</td>\n",
       "      <td>69.296979</td>\n",
       "      <td>22.120270</td>\n",
       "      <td>20.673105</td>\n",
       "      <td>1.447165</td>\n",
       "    </tr>\n",
       "    <tr>\n",
       "      <th>1</th>\n",
       "      <td>44.242678</td>\n",
       "      <td>39.340241</td>\n",
       "      <td>45.136502</td>\n",
       "      <td>10.390910</td>\n",
       "      <td>12.338894</td>\n",
       "      <td>-1.947985</td>\n",
       "    </tr>\n",
       "    <tr>\n",
       "      <th>2</th>\n",
       "      <td>16.874171</td>\n",
       "      <td>45.956803</td>\n",
       "      <td>69.397230</td>\n",
       "      <td>9.288149</td>\n",
       "      <td>12.347279</td>\n",
       "      <td>-3.059130</td>\n",
       "    </tr>\n",
       "    <tr>\n",
       "      <th>3</th>\n",
       "      <td>151.511186</td>\n",
       "      <td>41.345260</td>\n",
       "      <td>58.570128</td>\n",
       "      <td>18.511236</td>\n",
       "      <td>17.670704</td>\n",
       "      <td>0.840532</td>\n",
       "    </tr>\n",
       "    <tr>\n",
       "      <th>4</th>\n",
       "      <td>180.884712</td>\n",
       "      <td>10.768723</td>\n",
       "      <td>58.469877</td>\n",
       "      <td>12.897183</td>\n",
       "      <td>13.399348</td>\n",
       "      <td>-0.502164</td>\n",
       "    </tr>\n",
       "    <tr>\n",
       "      <th>...</th>\n",
       "      <td>...</td>\n",
       "      <td>...</td>\n",
       "      <td>...</td>\n",
       "      <td>...</td>\n",
       "      <td>...</td>\n",
       "      <td>...</td>\n",
       "    </tr>\n",
       "    <tr>\n",
       "      <th>195</th>\n",
       "      <td>37.926869</td>\n",
       "      <td>3.650906</td>\n",
       "      <td>13.757957</td>\n",
       "      <td>7.583883</td>\n",
       "      <td>5.419939</td>\n",
       "      <td>2.163945</td>\n",
       "    </tr>\n",
       "    <tr>\n",
       "      <th>196</th>\n",
       "      <td>94.067396</td>\n",
       "      <td>4.853917</td>\n",
       "      <td>8.043654</td>\n",
       "      <td>9.689153</td>\n",
       "      <td>8.211974</td>\n",
       "      <td>1.477179</td>\n",
       "    </tr>\n",
       "    <tr>\n",
       "      <th>197</th>\n",
       "      <td>177.075176</td>\n",
       "      <td>9.264959</td>\n",
       "      <td>6.339388</td>\n",
       "      <td>12.796932</td>\n",
       "      <td>12.838362</td>\n",
       "      <td>-0.041429</td>\n",
       "    </tr>\n",
       "    <tr>\n",
       "      <th>198</th>\n",
       "      <td>283.942679</td>\n",
       "      <td>42.047016</td>\n",
       "      <td>66.289451</td>\n",
       "      <td>25.528802</td>\n",
       "      <td>23.908540</td>\n",
       "      <td>1.620262</td>\n",
       "    </tr>\n",
       "    <tr>\n",
       "      <th>199</th>\n",
       "      <td>232.313445</td>\n",
       "      <td>8.563202</td>\n",
       "      <td>8.645159</td>\n",
       "      <td>13.398438</td>\n",
       "      <td>15.255435</td>\n",
       "      <td>-1.856997</td>\n",
       "    </tr>\n",
       "  </tbody>\n",
       "</table>\n",
       "<p>200 rows × 6 columns</p>\n",
       "</div>"
      ],
      "text/plain": [
       "             TV      Radio  Newspaper      Sales  Predicted Sales  Residuals\n",
       "0    230.308426  37.836477  69.296979  22.120270        20.673105   1.447165\n",
       "1     44.242678  39.340241  45.136502  10.390910        12.338894  -1.947985\n",
       "2     16.874171  45.956803  69.397230   9.288149        12.347279  -3.059130\n",
       "3    151.511186  41.345260  58.570128  18.511236        17.670704   0.840532\n",
       "4    180.884712  10.768723  58.469877  12.897183        13.399348  -0.502164\n",
       "..          ...        ...        ...        ...              ...        ...\n",
       "195   37.926869   3.650906  13.757957   7.583883         5.419939   2.163945\n",
       "196   94.067396   4.853917   8.043654   9.689153         8.211974   1.477179\n",
       "197  177.075176   9.264959   6.339388  12.796932        12.838362  -0.041429\n",
       "198  283.942679  42.047016  66.289451  25.528802        23.908540   1.620262\n",
       "199  232.313445   8.563202   8.645159  13.398438        15.255435  -1.856997\n",
       "\n",
       "[200 rows x 6 columns]"
      ]
     },
     "execution_count": 23,
     "metadata": {},
     "output_type": "execute_result"
    }
   ],
   "source": [
    "df_standard\n",
    "\n",
    "# Add the Predicted Sales column to the dataframe\n",
    "df_standard['Predicted Sales'] = predict(df_standard[['origin', 'TV', 'Radio', 'Newspaper']], theta_matrix_train[-1])\n",
    "\n",
    "\n",
    "# Convert the standardized residuals back to the original scale (for all columns)\n",
    "df_standard['TV'] = df_standard['TV'] * df['TV'].std() + df['TV'].mean()\n",
    "df_standard['Radio'] = df_standard['Radio'] * df['Radio'].std() + df['Radio'].mean()\n",
    "df_standard['Newspaper'] = df_standard['Newspaper'] * df['Newspaper'].std() + df['Newspaper'].mean()\n",
    "df_standard['Sales'] = df_standard['Sales'] * df['Sales'].std() + df['Sales'].mean()\n",
    "df_standard['Predicted Sales'] = df_standard['Predicted Sales'] * df['Sales'].std() + df['Sales'].mean()\n",
    "\n",
    "# Calculate the Residuals\n",
    "df_standard['Residuals'] = df_standard['Sales'] - df_standard['Predicted Sales']\n",
    "\n",
    "# Drop the all_ones column\n",
    "df_standard.drop('origin', axis=1, inplace=True)\n",
    "\n",
    "df_standard"
   ]
  },
  {
   "cell_type": "code",
   "execution_count": 24,
   "id": "4333a8e0",
   "metadata": {},
   "outputs": [
    {
     "data": {
      "image/png": "[encoded data removed]",
      "text/plain": [
       "<Figure size 1080x576 with 1 Axes>"
      ]
     },
     "metadata": {
      "needs_background": "light"
     },
     "output_type": "display_data"
    }
   ],
   "source": [
    "plt.figure(figsize=(15,8))\n",
    "plt.plot(cost_matrix_train, label='Train Cost')\n",
    "plt.plot(cost_matrix_test, label='Test Cost')\n",
    "plt.xlabel('Iterations')\n",
    "plt.ylabel('Cost')\n",
    "plt.title('Cost over Iterations')\n",
    "plt.legend()\n",
    "plt.show()"
   ]
  },
  {
   "cell_type": "code",
   "execution_count": 25,
   "id": "42be13e2",
   "metadata": {},
   "outputs": [
    {
     "name": "stdout",
     "output_type": "stream",
     "text": [
      "Optimal Theta: [0.01132617 0.75703501 0.52325754 0.00874452]\n",
      "Linear Regression Equation : y = 0.011326168197066909 + 0.7570350058287548*TV + 0.523257537084655*Radio + 0.008744524316019128*Newspaper\n"
     ]
    }
   ],
   "source": [
    "#zero theta as original theta\n",
    "init_t = initialize_theta(x_train)\n",
    "#setting learning rate and iteration\n",
    "alpha = 0.01\n",
    "iterations = 50000\n",
    "#for gradient descent\n",
    "theta_matrix, cost_matrix = grad_descent(x_train, y_train, init_t, alpha, iterations)\n",
    "\n",
    "optimal_theta = theta_matrix[-1]\n",
    "\n",
    "print(f\"Optimal Theta: {optimal_theta}\")\n",
    "print(f\"Linear Regression Equation : y = {optimal_theta[0]} + {optimal_theta[1]}*TV + {optimal_theta[2]}*Radio + {optimal_theta[3]}*Newspaper\")"
   ]
  },
  {
   "cell_type": "code",
   "execution_count": 26,
   "id": "01e3f8e3",
   "metadata": {},
   "outputs": [
    {
     "data": {
      "image/png": "[encoded data removed]",
      "text/plain": [
       "<Figure size 432x288 with 1 Axes>"
      ]
     },
     "metadata": {
      "needs_background": "light"
     },
     "output_type": "display_data"
    }
   ],
   "source": [
    "#Scatterplot of real y values VS prediction y values using the train set\n",
    "predict_train = predict(x_train, optimal_theta)\n",
    "plt.scatter(y_train, predict_train)\n",
    "plt.xlabel('Real y values')\n",
    "plt.ylabel('Prediction y values')\n",
    "plt.title('Prediction y values VS Real y values using Train Set)')\n",
    "plt.plot(y_train, y_train, color='red')\n",
    "plt.show()"
   ]
  },
  {
   "cell_type": "code",
   "execution_count": 27,
   "id": "5fba0850",
   "metadata": {},
   "outputs": [
    {
     "name": "stdout",
     "output_type": "stream",
     "text": [
      "The r2 score = 0.8990896822428788\n"
     ]
    }
   ],
   "source": [
    "print(f\"The r2 score = {r2_score(y_train, predict_train)}\")"
   ]
  },
  {
   "cell_type": "code",
   "execution_count": 28,
   "id": "3efe05a5",
   "metadata": {},
   "outputs": [
    {
     "data": {
      "image/png": "[encoded data removed]",
      "text/plain": [
       "<Figure size 432x288 with 1 Axes>"
      ]
     },
     "metadata": {
      "needs_background": "light"
     },
     "output_type": "display_data"
    },
    {
     "name": "stdout",
     "output_type": "stream",
     "text": [
      "The r2 score = 0.8849537640173426\n"
     ]
    }
   ],
   "source": [
    "# Scatter plot of real y values vs prediction y values using test set\n",
    "predict_test = predict(x_test, optimal_theta)\n",
    "plt.scatter(y_test, predict_test)\n",
    "plt.xlabel('Real y values')\n",
    "plt.ylabel('Prediction y values')\n",
    "plt.title('Prediction y values VS Real y values using Test Set)')\n",
    "plt.plot(y_test, y_test, color='red')\n",
    "plt.show()\n",
    "\n",
    "print(f\"The r2 score = {r2_score(y_test, predict_test)}\")"
   ]
  },
  {
   "cell_type": "code",
   "execution_count": 29,
   "id": "61d5e2a2",
   "metadata": {},
   "outputs": [
    {
     "data": {
      "image/png": "[encoded data removed]",
      "text/plain": [
       "<Figure size 1440x720 with 1 Axes>"
      ]
     },
     "metadata": {
      "needs_background": "light"
     },
     "output_type": "display_data"
    }
   ],
   "source": [
    "#Getting the Mean Squared Error for the iteration\n",
    "MSE_arr = []\n",
    "for i in range(iterations):\n",
    "    MSE = mean_squared_error(y_train, predict(x_train, theta_matrix[i]))\n",
    "    MSE_arr.append(MSE)\n",
    "    \n",
    "#plotting the MSE\n",
    "plt.figure(figsize=(20, 10))\n",
    "plt.plot(MSE_arr)\n",
    "plt.title('MSE over Iterations')\n",
    "plt.xlabel('Iterations')\n",
    "plt.xticks(np.arange(0, iterations, 1000))\n",
    "plt.ylabel('MSE')\n",
    "plt.show()"
   ]
  },
  {
   "cell_type": "code",
   "execution_count": 30,
   "id": "ad8960d5",
   "metadata": {},
   "outputs": [
    {
     "data": {
      "image/png": "[encoded data removed]",
      "text/plain": [
       "<Figure size 720x360 with 1 Axes>"
      ]
     },
     "metadata": {
      "needs_background": "light"
     },
     "output_type": "display_data"
    }
   ],
   "source": [
    "#Closer version\n",
    "#MSE over iterations (the first 1000 only)\n",
    "plt.figure(figsize=(10,5))\n",
    "plt.plot(MSE_arr[0:1000])\n",
    "plt.title('MSE over Iterations (the first 1000 only)')\n",
    "plt.xlabel('Iterations')\n",
    "plt.ylabel('MSE')\n",
    "plt.xticks(np.arange(0, 1000, 100))\n",
    "plt.show()"
   ]
  },
  {
   "cell_type": "code",
   "execution_count": 31,
   "id": "69e1eed1",
   "metadata": {},
   "outputs": [
    {
     "data": {
      "image/png": "[encoded data removed]",
      "text/plain": [
       "<Figure size 1440x720 with 1 Axes>"
      ]
     },
     "metadata": {
      "needs_background": "light"
     },
     "output_type": "display_data"
    },
    {
     "name": "stdout",
     "output_type": "stream",
     "text": [
      "The maximum r^2 score = 0.8990896822428788\n"
     ]
    }
   ],
   "source": [
    "#Getting the r^2 score for the iteration\n",
    "r2_array = []\n",
    "for i in range(iterations):\n",
    "    r2 = r2_score(y_train, predict(x_train, theta_matrix[i]))\n",
    "    r2_array.append(r2)\n",
    "    \n",
    "#plotting the MSE\n",
    "plt.figure(figsize=(20, 10))\n",
    "plt.plot(r2_array)\n",
    "plt.title('r^2 score over Iterations')\n",
    "plt.xlabel('Iterations')\n",
    "plt.ylabel('r^2 score')\n",
    "plt.yticks(np.arange(0, 1, 0.05))\n",
    "# Marking the maximum r^2 score\n",
    "plt.axhline(y=max(r2_array), color='red')\n",
    "plt.show()\n",
    "\n",
    "\n",
    "print(f\"The maximum r^2 score = {max(r2_array)}\")"
   ]
  },
  {
   "cell_type": "code",
   "execution_count": 32,
   "id": "a67bd50d",
   "metadata": {},
   "outputs": [
    {
     "data": {
      "image/png": "[encoded data removed]",
      "text/plain": [
       "<Figure size 1440x720 with 1 Axes>"
      ]
     },
     "metadata": {
      "needs_background": "light"
     },
     "output_type": "display_data"
    }
   ],
   "source": [
    "#Plotting the cost over iterations\n",
    "plot_costs(cost_matrix)"
   ]
  },
  {
   "cell_type": "code",
   "execution_count": 33,
   "id": "fa8fbe1a",
   "metadata": {},
   "outputs": [
    {
     "name": "stdout",
     "output_type": "stream",
     "text": [
      "The optimal number of iterations is 2703\n"
     ]
    }
   ],
   "source": [
    "def optimal_iterations(max_r2, r2_array):\n",
    "    for i in range(len(r2_array)):\n",
    "        if r2_array[i] == max_r2:\n",
    "            return i\n",
    "        \n",
    "optimal_num = optimal_iterations(max(r2_array),r2_array)\n",
    "print(f'The optimal number of iterations is {optimal_num}')"
   ]
  },
  {
   "cell_type": "code",
   "execution_count": 34,
   "id": "6a48c87f",
   "metadata": {},
   "outputs": [
    {
     "name": "stdout",
     "output_type": "stream",
     "text": [
      "Cost at the optimal number of iterations = 0.049909432168217374\n",
      "Weights at the optimal number of iterations = [0.01132617 0.757035   0.52325753 0.00874453]\n",
      "\n",
      "The cost at the last iteration = 0.049909432168217374\n",
      "The weights at the last iteration = [0.01132617 0.75703501 0.52325754 0.00874452]\n"
     ]
    }
   ],
   "source": [
    "print(f'Cost at the optimal number of iterations = {cost_matrix[optimal_num]}')\n",
    "\n",
    "print(f'Weights at the optimal number of iterations = {theta_matrix[optimal_num]}')\n",
    "\n",
    "print(f'\\nThe cost at the last iteration = {cost_matrix[-1]}')\n",
    "print(f'The weights at the last iteration = {theta_matrix[-1]}')"
   ]
  },
  {
   "cell_type": "code",
   "execution_count": 35,
   "id": "be5f8c43",
   "metadata": {},
   "outputs": [
    {
     "data": {
      "image/png": "[encoded data removed]",
      "text/plain": [
       "<Figure size 1440x720 with 1 Axes>"
      ]
     },
     "metadata": {
      "needs_background": "light"
     },
     "output_type": "display_data"
    }
   ],
   "source": [
    "def gradient_descent_optimized(x, y, theta, alpha, iterations, diff_threshold):\n",
    "    theta_matrix = []\n",
    "    cost_matrix = []\n",
    "    last_it = 0\n",
    "\n",
    "    for i in range(iterations):\n",
    "        theta = new_theta(x, y, theta, alpha)\n",
    "        theta_matrix.append(theta)\n",
    "        cost = compute_cost(x, y, theta)\n",
    "        cost_matrix.append(cost)\n",
    "\n",
    "        if i > 0 and abs(cost_matrix[i] - cost_matrix[i-1]) < diff_threshold:\n",
    "            last_it = i\n",
    "            break\n",
    "        last_it = i\n",
    "\n",
    "    return theta_matrix, cost_matrix, last_it\n",
    "\n",
    "iterations = 50000\n",
    "alpha = 0.01\n",
    "\n",
    "diff_threshold = 1.0e-15\n",
    "\n",
    "theta_matrix, cost_matrix, optimal_iterations = gradient_descent_optimized(x_train, y_train, init_t, alpha, iterations, diff_threshold)\n",
    "\n",
    "plot_costs(cost_matrix)"
   ]
  },
  {
   "cell_type": "code",
   "execution_count": 36,
   "id": "c9970980",
   "metadata": {},
   "outputs": [
    {
     "data": {
      "image/png": "[encoded data removed]",
      "text/plain": [
       "<Figure size 1440x720 with 1 Axes>"
      ]
     },
     "metadata": {
      "needs_background": "light"
     },
     "output_type": "display_data"
    }
   ],
   "source": [
    "init_t = initialize_theta(x_train)\n",
    "\n",
    "iterations = optimal_iterations\n",
    "\n",
    "#Learning rates\n",
    "learning_rates = [0.7, 0.5, 0.3, 0.01, 0.001, 0.0001]\n",
    "\n",
    "cost_dict = {i:0 for i in learning_rates}\n",
    "error_dict = {i:0 for i in learning_rates}\n",
    "cost_matrix_dict = {i:[] for i in learning_rates}\n",
    "\n",
    "for alpha in learning_rates:\n",
    "    theta_matrix, cost_matrix = grad_descent(x_train, y_train, init_t, alpha, iterations)\n",
    "    cost_dict[alpha] = cost_matrix[-1]\n",
    "    from sklearn.metrics import mean_squared_error\n",
    "    error_dict[alpha] = mean_squared_error(y_train, predict(x_train, theta_matrix[-1]))\n",
    "    cost_matrix_dict[alpha] = cost_matrix\n",
    "\n",
    "plt.figure(figsize=(20,10))\n",
    "for alpha in learning_rates:\n",
    "    plt.plot(cost_matrix_dict[alpha], label = alpha)\n",
    "plt.xlabel('Iterations')\n",
    "plt.ylabel('Cost')\n",
    "plt.title('Cost over iterations for each learning rate')\n",
    "plt.legend()\n",
    "plt.show()"
   ]
  },
  {
   "cell_type": "code",
   "execution_count": 37,
   "id": "75a60609",
   "metadata": {},
   "outputs": [
    {
     "data": {
      "text/html": [
       "<div>\n",
       "<style scoped>\n",
       "    .dataframe tbody tr th:only-of-type {\n",
       "        vertical-align: middle;\n",
       "    }\n",
       "\n",
       "    .dataframe tbody tr th {\n",
       "        vertical-align: top;\n",
       "    }\n",
       "\n",
       "    .dataframe thead th {\n",
       "        text-align: right;\n",
       "    }\n",
       "</style>\n",
       "<table border=\"1\" class=\"dataframe\">\n",
       "  <thead>\n",
       "    <tr style=\"text-align: right;\">\n",
       "      <th></th>\n",
       "      <th>Learning Rate</th>\n",
       "      <th>Cost</th>\n",
       "      <th>MSError</th>\n",
       "    </tr>\n",
       "  </thead>\n",
       "  <tbody>\n",
       "    <tr>\n",
       "      <th>0</th>\n",
       "      <td>0.7000</td>\n",
       "      <td>0.049909</td>\n",
       "      <td>0.099819</td>\n",
       "    </tr>\n",
       "    <tr>\n",
       "      <th>1</th>\n",
       "      <td>0.5000</td>\n",
       "      <td>0.049909</td>\n",
       "      <td>0.099819</td>\n",
       "    </tr>\n",
       "    <tr>\n",
       "      <th>2</th>\n",
       "      <td>0.3000</td>\n",
       "      <td>0.049909</td>\n",
       "      <td>0.099819</td>\n",
       "    </tr>\n",
       "    <tr>\n",
       "      <th>3</th>\n",
       "      <td>0.0100</td>\n",
       "      <td>0.049909</td>\n",
       "      <td>0.099819</td>\n",
       "    </tr>\n",
       "    <tr>\n",
       "      <th>4</th>\n",
       "      <td>0.0010</td>\n",
       "      <td>0.057965</td>\n",
       "      <td>0.115930</td>\n",
       "    </tr>\n",
       "    <tr>\n",
       "      <th>5</th>\n",
       "      <td>0.0001</td>\n",
       "      <td>0.328305</td>\n",
       "      <td>0.656610</td>\n",
       "    </tr>\n",
       "  </tbody>\n",
       "</table>\n",
       "</div>"
      ],
      "text/plain": [
       "   Learning Rate      Cost   MSError\n",
       "0         0.7000  0.049909  0.099819\n",
       "1         0.5000  0.049909  0.099819\n",
       "2         0.3000  0.049909  0.099819\n",
       "3         0.0100  0.049909  0.099819\n",
       "4         0.0010  0.057965  0.115930\n",
       "5         0.0001  0.328305  0.656610"
      ]
     },
     "execution_count": 37,
     "metadata": {},
     "output_type": "execute_result"
    }
   ],
   "source": [
    "learning_rates = pd.DataFrame({'Learning Rate': list(cost_dict.keys()), 'Cost': list(cost_dict.values()), 'MSError': list(error_dict.values())})\n",
    "learning_rates"
   ]
  },
  {
   "cell_type": "code",
   "execution_count": 38,
   "id": "a0263f45",
   "metadata": {},
   "outputs": [
    {
     "data": {
      "image/png": "[encoded data removed]",
      "text/plain": [
       "<Figure size 1440x720 with 1 Axes>"
      ]
     },
     "metadata": {
      "needs_background": "light"
     },
     "output_type": "display_data"
    }
   ],
   "source": [
    "init_w = initialize_theta(x_train)\n",
    "\n",
    "iterations = 100000\n",
    "\n",
    "learning_rates = [0.7, 0.5, 0.3, 0.01, 0.001, 0.0001]\n",
    "\n",
    "cost_dict = {i:0 for i in learning_rates}\n",
    "error_dict = {i:0 for i in learning_rates}\n",
    "cost_matrix_dict = {i:[] for i in learning_rates}\n",
    "optimal_iterations_dict = {i:0 for i in learning_rates}\n",
    "\n",
    "diff_threshold = 1.0e-15\n",
    "\n",
    "for alpha in learning_rates:\n",
    "\n",
    "    theta_matrix, cost_matrix, optimal_iterations = gradient_descent_optimized(x_train, y_train, init_t, alpha, iterations, diff_threshold)\n",
    "\n",
    "    cost_dict[alpha] = cost_matrix[-1]\n",
    "    from sklearn.metrics import mean_squared_error\n",
    "    error_dict[alpha] = mean_squared_error(y_train, predict(x_train, theta_matrix[-1]))\n",
    "    cost_matrix_dict[alpha] = cost_matrix\n",
    "    optimal_iterations_dict[alpha] = optimal_iterations\n",
    "\n",
    "# Plot plotting\n",
    "plt.figure(figsize=(20, 10))\n",
    "for alpha in learning_rates:\n",
    "    plt.plot(cost_matrix_dict[alpha], label=alpha)\n",
    "plt.title('Cost over Iterations with Learning Rate')\n",
    "plt.xlabel('Iterations')\n",
    "plt.ylabel('Cost')\n",
    "plt.legend()\n",
    "plt.show()"
   ]
  },
  {
   "cell_type": "code",
   "execution_count": 39,
   "id": "ab85e443",
   "metadata": {},
   "outputs": [
    {
     "data": {
      "text/html": [
       "<div>\n",
       "<style scoped>\n",
       "    .dataframe tbody tr th:only-of-type {\n",
       "        vertical-align: middle;\n",
       "    }\n",
       "\n",
       "    .dataframe tbody tr th {\n",
       "        vertical-align: top;\n",
       "    }\n",
       "\n",
       "    .dataframe thead th {\n",
       "        text-align: right;\n",
       "    }\n",
       "</style>\n",
       "<table border=\"1\" class=\"dataframe\">\n",
       "  <thead>\n",
       "    <tr style=\"text-align: right;\">\n",
       "      <th></th>\n",
       "      <th>Learning Rate</th>\n",
       "      <th>Cost</th>\n",
       "      <th>MSE</th>\n",
       "      <th>Optimal Iterations</th>\n",
       "    </tr>\n",
       "  </thead>\n",
       "  <tbody>\n",
       "    <tr>\n",
       "      <th>0</th>\n",
       "      <td>0.7000</td>\n",
       "      <td>0.049909</td>\n",
       "      <td>0.099819</td>\n",
       "      <td>26</td>\n",
       "    </tr>\n",
       "    <tr>\n",
       "      <th>1</th>\n",
       "      <td>0.5000</td>\n",
       "      <td>0.049909</td>\n",
       "      <td>0.099819</td>\n",
       "      <td>40</td>\n",
       "    </tr>\n",
       "    <tr>\n",
       "      <th>2</th>\n",
       "      <td>0.3000</td>\n",
       "      <td>0.049909</td>\n",
       "      <td>0.099819</td>\n",
       "      <td>71</td>\n",
       "    </tr>\n",
       "    <tr>\n",
       "      <th>3</th>\n",
       "      <td>0.0100</td>\n",
       "      <td>0.049909</td>\n",
       "      <td>0.099819</td>\n",
       "      <td>2087</td>\n",
       "    </tr>\n",
       "    <tr>\n",
       "      <th>4</th>\n",
       "      <td>0.0010</td>\n",
       "      <td>0.049909</td>\n",
       "      <td>0.099819</td>\n",
       "      <td>19177</td>\n",
       "    </tr>\n",
       "    <tr>\n",
       "      <th>5</th>\n",
       "      <td>0.0001</td>\n",
       "      <td>0.049910</td>\n",
       "      <td>0.099819</td>\n",
       "      <td>99999</td>\n",
       "    </tr>\n",
       "  </tbody>\n",
       "</table>\n",
       "</div>"
      ],
      "text/plain": [
       "   Learning Rate      Cost       MSE  Optimal Iterations\n",
       "0         0.7000  0.049909  0.099819                  26\n",
       "1         0.5000  0.049909  0.099819                  40\n",
       "2         0.3000  0.049909  0.099819                  71\n",
       "3         0.0100  0.049909  0.099819                2087\n",
       "4         0.0010  0.049909  0.099819               19177\n",
       "5         0.0001  0.049910  0.099819               99999"
      ]
     },
     "execution_count": 39,
     "metadata": {},
     "output_type": "execute_result"
    }
   ],
   "source": [
    "df_learning_rates = pd.DataFrame({'Learning Rate': list(cost_dict.keys()), 'Cost': list(cost_dict.values()), 'MSE': list(error_dict.values()), 'Optimal Iterations': list(optimal_iterations_dict.values())})\n",
    "df_learning_rates"
   ]
  },
  {
   "cell_type": "code",
   "execution_count": 40,
   "id": "9e76e4df",
   "metadata": {},
   "outputs": [
    {
     "name": "stdout",
     "output_type": "stream",
     "text": [
      "The results of OLS is 0.8990896822428788\n",
      "The results of GDA is 0.8990896822428788\n"
     ]
    }
   ],
   "source": [
    "from sklearn.linear_model import LinearRegression\n",
    "ordinary_least_squares = LinearRegression()\n",
    "ordinary_least_squares.fit(x_train, y_train).coef_\n",
    "\n",
    "#r^2 score for the Ordinary Least Squares and the Gradient Descent Algorithm\n",
    "r2_OLS = r2_score(y_train, ordinary_least_squares.predict(x_train))\n",
    "r2_GDA = r2_array[-1]\n",
    "\n",
    "print(f\"The results of OLS is {r2_OLS}\")\n",
    "print(f\"The results of GDA is {r2_GDA}\")"
   ]
  },
  {
   "cell_type": "code",
   "execution_count": null,
   "id": "df079a30",
   "metadata": {},
   "outputs": [],
   "source": [
    "    "
   ]
  }
 ],
 "metadata": {
  "kernelspec": {
   "display_name": "Python 3 (ipykernel)",
   "language": "python",
   "name": "python3"
  },
  "language_info": {
   "codemirror_mode": {
    "name": "ipython",
    "version": 3
   },
   "file_extension": ".py",
   "mimetype": "text/x-python",
   "name": "python",
   "nbconvert_exporter": "python",
   "pygments_lexer": "ipython3",
   "version": "3.9.12"
  }
 },
 "nbformat": 4,
 "nbformat_minor": 5
}
