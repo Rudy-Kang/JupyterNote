{
 "cells": [
  {
   "cell_type": "code",
   "execution_count": 1,
   "id": "0ef628e5",
   "metadata": {},
   "outputs": [
    {
     "name": "stdout",
     "output_type": "stream",
     "text": [
      "%pylab is deprecated, use %matplotlib inline and import the required libraries.\n",
      "Populating the interactive namespace from numpy and matplotlib\n"
     ]
    }
   ],
   "source": [
    "%pylab inline"
   ]
  },
  {
   "cell_type": "code",
   "execution_count": 2,
   "id": "388902f9",
   "metadata": {},
   "outputs": [],
   "source": [
    "y_hat = np.linspace(-1, 1, 20)\n",
    "y = np.linspace(0, 1, 20)"
   ]
  },
  {
   "cell_type": "code",
   "execution_count": 3,
   "id": "b791cfb3",
   "metadata": {},
   "outputs": [
    {
     "data": {
      "text/plain": [
       "array([-1.        , -0.89473684, -0.78947368, -0.68421053, -0.57894737,\n",
       "       -0.47368421, -0.36842105, -0.26315789, -0.15789474, -0.05263158,\n",
       "        0.05263158,  0.15789474,  0.26315789,  0.36842105,  0.47368421,\n",
       "        0.57894737,  0.68421053,  0.78947368,  0.89473684,  1.        ])"
      ]
     },
     "execution_count": 3,
     "metadata": {},
     "output_type": "execute_result"
    }
   ],
   "source": [
    "y_hat"
   ]
  },
  {
   "cell_type": "code",
   "execution_count": 4,
   "id": "f502dfb7",
   "metadata": {},
   "outputs": [
    {
     "data": {
      "text/plain": [
       "array([0.        , 0.05263158, 0.10526316, 0.15789474, 0.21052632,\n",
       "       0.26315789, 0.31578947, 0.36842105, 0.42105263, 0.47368421,\n",
       "       0.52631579, 0.57894737, 0.63157895, 0.68421053, 0.73684211,\n",
       "       0.78947368, 0.84210526, 0.89473684, 0.94736842, 1.        ])"
      ]
     },
     "execution_count": 4,
     "metadata": {},
     "output_type": "execute_result"
    }
   ],
   "source": [
    "y"
   ]
  },
  {
   "cell_type": "code",
   "execution_count": 5,
   "id": "9c68224e",
   "metadata": {},
   "outputs": [
    {
     "name": "stdout",
     "output_type": "stream",
     "text": [
      "These are the answers for Assignment 1 Part 1:\n",
      "This is the Mean Squared Error:  0.3421052631578948\n",
      "This is the Mean Absolute Error:  0.4999999999999999\n",
      "This is the Mean Squared Logarithmic Error:  inf\n",
      "This is the Mean Absolute Percentage Error:  inf\n",
      "This is the shape and dimension of Y hat:  (20,) 1\n",
      "This is the shape and dimension of Y:  (20,) 1\n"
     ]
    },
    {
     "name": "stderr",
     "output_type": "stream",
     "text": [
      "C:\\Users\\rk020\\AppData\\Local\\Temp\\ipykernel_17668\\1527436853.py:11: RuntimeWarning: divide by zero encountered in log\n",
      "  return np.sum((np.log(x+1) - np.log(y+1))**2)/n\n",
      "C:\\Users\\rk020\\AppData\\Local\\Temp\\ipykernel_17668\\1527436853.py:14: RuntimeWarning: divide by zero encountered in true_divide\n",
      "  return np.sum(abs((x-y)/y))/n\n"
     ]
    }
   ],
   "source": [
    "y_hat = np.linspace(-1, 1, 20)\n",
    "y = np.linspace(0, 1, 20)\n",
    "\n",
    "def mse(x,y,n):\n",
    "    return np.sum((x-y)**2)/n\n",
    "\n",
    "def mae(x,y,n):\n",
    "    return np.sum(abs(x-y))/n\n",
    "\n",
    "def msle(x,y,n):\n",
    "    return np.sum((np.log(x+1) - np.log(y+1))**2)/n\n",
    "\n",
    "def mape(x,y,n):\n",
    "    return np.sum(abs((x-y)/y))/n\n",
    "\n",
    "def shape(x):\n",
    "    return x.shape\n",
    "\n",
    "def dimension(x):\n",
    "    return x.ndim\n",
    "\n",
    "mseL = mse(y_hat,y,20)\n",
    "maeL = mae(y_hat,y,20)\n",
    "msleL = msle(y_hat,y,20)\n",
    "mapeL = mape(y_hat,y,20)\n",
    "\n",
    "y_hatShape = shape(y_hat)\n",
    "y_Shape = shape(y)\n",
    "\n",
    "y_hatDimension = dimension(y_hat)\n",
    "y_Dimension = dimension(y)\n",
    "\n",
    "print(\"These are the answers for Assignment 1 Part 1:\")\n",
    "print(\"This is the Mean Squared Error: \", mseL)\n",
    "print(\"This is the Mean Absolute Error: \", maeL)\n",
    "print(\"This is the Mean Squared Logarithmic Error: \", msleL)\n",
    "print(\"This is the Mean Absolute Percentage Error: \", mapeL)\n",
    "print (\"This is the shape and dimension of Y hat: \", y_hatShape, y_hatDimension)\n",
    "print (\"This is the shape and dimension of Y: \", y_Shape, y_Dimension)"
   ]
  },
  {
   "cell_type": "code",
   "execution_count": 6,
   "id": "0a4830ec",
   "metadata": {},
   "outputs": [
    {
     "name": "stdout",
     "output_type": "stream",
     "text": [
      "This is the Array M \n",
      " [ 1  2  3  4  5  6  7  8  9 10 11 12 13 14 15 16]\n",
      "This is the 4 by 4 Array N \n",
      " [[ 1  2  3  4]\n",
      " [ 5  6  7  8]\n",
      " [ 9 10 11 12]\n",
      " [13 14 15 16]]\n",
      "This is the second row of Array N \n",
      " [5 6 7 8]\n",
      "This is the minimum values of Column of Array N \n",
      " [1 2 3 4]\n",
      "This are the locations of the minimun values of Column of Array N \n",
      " [0 0 0 0]\n",
      "This is the mean of the Array N \n",
      " 8.5\n",
      "This is the  vector V with 4 elements \n",
      " [1 1 1 1]\n",
      "This is the dot product of N and V \n",
      " [10 26 42 58]\n"
     ]
    }
   ],
   "source": [
    "M = np.array([1,2,3,4,5,6,7,8,9,10,11,12,13,14,15,16])\n",
    "N = M.reshape(4,4)\n",
    "S = N[1,:]\n",
    "min = np.min(N, axis = 0)\n",
    "locate = N.argmin(axis=0)\n",
    "mean = N.mean()\n",
    "V = np.array([1,1,1,1])\n",
    "Dot = np.dot(N,V)\n",
    "\n",
    "print (\"This is the Array M \\n\", M)\n",
    "print (\"This is the 4 by 4 Array N \\n\", N)\n",
    "print (\"This is the second row of Array N \\n\", S)\n",
    "print (\"This is the minimum values of Column of Array N \\n\", min)\n",
    "print(\"This are the locations of the minimun values of Column of Array N \\n\", locate)\n",
    "print(\"This is the mean of the Array N \\n\", mean)\n",
    "print(\"This is the  vector V with 4 elements \\n\", V)\n",
    "print(\"This is the dot product of N and V \\n\", Dot)"
   ]
  }
 ],
 "metadata": {
  "kernelspec": {
   "display_name": "Python 3 (ipykernel)",
   "language": "python",
   "name": "python3"
  },
  "language_info": {
   "codemirror_mode": {
    "name": "ipython",
    "version": 3
   },
   "file_extension": ".py",
   "mimetype": "text/x-python",
   "name": "python",
   "nbconvert_exporter": "python",
   "pygments_lexer": "ipython3",
   "version": "3.9.12"
  }
 },
 "nbformat": 4,
 "nbformat_minor": 5
}
